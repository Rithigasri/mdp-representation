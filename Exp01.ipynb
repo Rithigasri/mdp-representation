{
 "cells": [
  {
   "cell_type": "code",
   "execution_count": 1,
   "id": "e434115b",
   "metadata": {},
   "outputs": [],
   "source": [
    "# Name:Rithiga Sri.B\n",
    "# Registration Number:212221230083"
   ]
  },
  {
   "cell_type": "code",
   "execution_count": 2,
   "id": "d1ede4ca",
   "metadata": {},
   "outputs": [],
   "source": [
    "P={\n",
    "    0:{\n",
    "        0:[(1.0,0,0.0,False)],\n",
    "        1:[(1.0,3,0.0,False)],\n",
    "        2:[(1.0,0,0.0,False)],\n",
    "        3:[(1.0,1,0.0,False)]\n",
    "    },\n",
    "    1:{\n",
    "        0:[(1.0,1,0.0,False)],\n",
    "        1:[(1.0,4,0.0,False)],\n",
    "        2:[(1.0,0,0.0,False)],\n",
    "        3:[(1.0,2,0.0,False)]\n",
    "    },\n",
    "    2:{\n",
    "        0:[(1.0,2,0.0,False)],\n",
    "        1:[(1.0,5,0.0,False)],\n",
    "        2:[(1.0,1,0.0,False)],\n",
    "        3:[(1.0,2,0.0,False)]\n",
    "    },\n",
    "    3:{\n",
    "        0:[(1.0,0,0.0,False)],\n",
    "        1:[(1.0,6,0.0,False)],\n",
    "        2:[(1.0,3,0.0,False)],\n",
    "        3:[(1.0,4,0.0,False)]\n",
    "    },\n",
    "    4:{\n",
    "        0:[(1.0,1,0.0,False)],\n",
    "        1:[(1.0,7,0.0,False)],\n",
    "        2:[(1.0,3,0.0,False)],\n",
    "        3:[(1.0,5,0.0,False)]\n",
    "    },\n",
    "    5:{\n",
    "        0:[(1.0,2,0.0,False)],\n",
    "        1:[(1.0,8,1.0,True)],\n",
    "        2:[(1.0,4,0.0,False)],\n",
    "        3:[(1.0,5,0.0,False)]\n",
    "    },\n",
    "    6:{\n",
    "        0:[(1.0,3,0.0,False)],\n",
    "        1:[(1.0,6,0.0,False)],\n",
    "        2:[(1.0,6,0.0,False)],\n",
    "        3:[(1.0,7,0.0,False)]\n",
    "    },\n",
    "    7:{\n",
    "        0:[(1.0,4,0.0,False)],\n",
    "        1:[(1.0,7,0.0,False)],\n",
    "        2:[(1.0,6,0.0,False)],\n",
    "        3:[(1.0,8,1.0,True)]\n",
    "    },\n",
    "    8:{\n",
    "        0:[(1.0,5,0.0,False)],\n",
    "        1:[(1.0,8,1.0,True)],\n",
    "        2:[(1.0,7,0.0,False)],\n",
    "        3:[(1.0,8,1.0,True)]\n",
    "    }\n",
    "}"
   ]
  },
  {
   "cell_type": "code",
   "execution_count": 3,
   "id": "36727205",
   "metadata": {},
   "outputs": [
    {
     "data": {
      "text/plain": [
       "{0: {0: [(1.0, 0, 0.0, False)],\n",
       "  1: [(1.0, 3, 0.0, False)],\n",
       "  2: [(1.0, 0, 0.0, False)],\n",
       "  3: [(1.0, 1, 0.0, False)]},\n",
       " 1: {0: [(1.0, 1, 0.0, False)],\n",
       "  1: [(1.0, 4, 0.0, False)],\n",
       "  2: [(1.0, 0, 0.0, False)],\n",
       "  3: [(1.0, 2, 0.0, False)]},\n",
       " 2: {0: [(1.0, 2, 0.0, False)],\n",
       "  1: [(1.0, 5, 0.0, False)],\n",
       "  2: [(1.0, 1, 0.0, False)],\n",
       "  3: [(1.0, 2, 0.0, False)]},\n",
       " 3: {0: [(1.0, 0, 0.0, False)],\n",
       "  1: [(1.0, 6, 0.0, False)],\n",
       "  2: [(1.0, 3, 0.0, False)],\n",
       "  3: [(1.0, 4, 0.0, False)]},\n",
       " 4: {0: [(1.0, 1, 0.0, False)],\n",
       "  1: [(1.0, 7, 0.0, False)],\n",
       "  2: [(1.0, 3, 0.0, False)],\n",
       "  3: [(1.0, 5, 0.0, False)]},\n",
       " 5: {0: [(1.0, 2, 0.0, False)],\n",
       "  1: [(1.0, 8, 1.0, True)],\n",
       "  2: [(1.0, 4, 0.0, False)],\n",
       "  3: [(1.0, 5, 0.0, False)]},\n",
       " 6: {0: [(1.0, 3, 0.0, False)],\n",
       "  1: [(1.0, 6, 0.0, False)],\n",
       "  2: [(1.0, 6, 0.0, False)],\n",
       "  3: [(1.0, 7, 0.0, False)]},\n",
       " 7: {0: [(1.0, 4, 0.0, False)],\n",
       "  1: [(1.0, 7, 0.0, False)],\n",
       "  2: [(1.0, 6, 0.0, False)],\n",
       "  3: [(1.0, 8, 1.0, True)]},\n",
       " 8: {0: [(1.0, 5, 0.0, False)],\n",
       "  1: [(1.0, 8, 1.0, True)],\n",
       "  2: [(1.0, 7, 0.0, False)],\n",
       "  3: [(1.0, 8, 1.0, True)]}}"
      ]
     },
     "execution_count": 3,
     "metadata": {},
     "output_type": "execute_result"
    }
   ],
   "source": [
    "P"
   ]
  },
  {
   "cell_type": "code",
   "execution_count": null,
   "id": "a9fb469f",
   "metadata": {},
   "outputs": [],
   "source": []
  }
 ],
 "metadata": {
  "kernelspec": {
   "display_name": "Python 3",
   "language": "python",
   "name": "python3"
  },
  "language_info": {
   "codemirror_mode": {
    "name": "ipython",
    "version": 3
   },
   "file_extension": ".py",
   "mimetype": "text/x-python",
   "name": "python",
   "nbconvert_exporter": "python",
   "pygments_lexer": "ipython3",
   "version": "3.8.8"
  }
 },
 "nbformat": 4,
 "nbformat_minor": 5
}
